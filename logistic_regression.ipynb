{
 "cells": [
  {
   "cell_type": "code",
   "execution_count": 1,
   "metadata": {},
   "outputs": [],
   "source": [
    "%matplotlib inline\n",
    "import seaborn as sns\n",
    "import matplotlib.pyplot as plt\n",
    "import matplotlib"
   ]
  },
  {
   "cell_type": "code",
   "execution_count": 2,
   "metadata": {},
   "outputs": [],
   "source": [
    "import numpy as np\n",
    "import torch\n",
    "import torch.nn as nn\n",
    "import torch.optim as optim\n",
    "\n",
    "from sklearn.datasets import load_svmlight_file\n",
    "from torch.utils.data import Dataset, DataLoader\n",
    "import os\n",
    "import pickle"
   ]
  },
  {
   "cell_type": "code",
   "execution_count": 3,
   "metadata": {},
   "outputs": [],
   "source": [
    "import pandas as pd\n",
    "from sklearn import preprocessing\n",
    "min_max_scaler = preprocessing.MinMaxScaler()"
   ]
  },
  {
   "cell_type": "markdown",
   "metadata": {},
   "source": [
    "## Hyper Parameters"
   ]
  },
  {
   "cell_type": "code",
   "execution_count": 4,
   "metadata": {},
   "outputs": [
    {
     "name": "stdout",
     "output_type": "stream",
     "text": [
      "cpu\n"
     ]
    }
   ],
   "source": [
    "class arguments():\n",
    "#     data = 'NSQIP'\n",
    "    data = 'a9a'\n",
    "    \n",
    "    T = 1000 # Total number of iterations\n",
    "\n",
    "    reg = 0.05 # reglularization parameter\n",
    "    mu = reg # strong convexity of F\n",
    "\n",
    "    beta = 1\n",
    "    batch_size = 1 # number of data points used to obtain a stochastic gradient, at each iteration for each worker\n",
    "    N = 10 # number of workers\n",
    "    plot_every = 100 # frequency of evaluating the optimality error\n",
    "    \n",
    "    if data == 'a9a' and reg == 0.05:\n",
    "        f_min = 0.433426\n",
    "    elif data == 'NSQIP' and reg == 0.05:\n",
    "        f_min = 0.228248\n",
    "    else:\n",
    "        f_min = None\n",
    "        \n",
    "    reps = 10\n",
    "    print_every = reps // 5\n",
    "    \n",
    "    device = \"cpu\" #torch.device(\"cuda\" if torch.cuda.is_available() else \"cpu\")\n",
    "    print(device)\n",
    "\n",
    "arg = arguments()"
   ]
  },
  {
   "cell_type": "code",
   "execution_count": 18,
   "metadata": {},
   "outputs": [],
   "source": [
    "def _get_dense_tensor(tensor):\n",
    "    if 'sparse' in str(type(tensor)):\n",
    "        return tensor.toarray()\n",
    "    elif 'numpy' in str(type(tensor)):\n",
    "        return tensor\n",
    "\n",
    "\n",
    "def _correct_binary_labels(labels, is_01_classes=True):\n",
    "    classes = set(labels)\n",
    "\n",
    "    if -1 in classes and is_01_classes:\n",
    "        labels[labels == -1] = 0\n",
    "    return labels\n",
    "\n",
    "\n",
    "class dataset(Dataset):\n",
    "    def __init__(self, data_name):\n",
    "        # load dataset.\n",
    "        if data_name == 'a9a':\n",
    "            file_path = 'data/a9a'\n",
    "            dataset = load_svmlight_file(file_path)\n",
    "            self.features, self.labels = self._get_images_and_labels(dataset)\n",
    "            self.labels = np.reshape(self.labels, (-1,1))\n",
    "            \n",
    "        elif data_name == 'NSQIP':\n",
    "            x_path = 'data/df_NSQIP_2014_post_x.pkl'\n",
    "            y_path = 'data/Y.csv'\n",
    "            df_features = pickle.load(open(x_path, 'rb'))\n",
    "            df_labels = pd.read_csv(y_path, header=None)\n",
    "            \n",
    "            self.labels = df_labels.to_numpy(dtype = np.float32) # int\n",
    "            self.features = min_max_scaler.fit_transform(df_features).astype(np.float32)\n",
    "            \n",
    "            del df_labels\n",
    "            del df_features\n",
    "            \n",
    "        else:\n",
    "            print('Error! Data name not recognized.')\n",
    "            \n",
    "        self.labels = torch.from_numpy(self.labels).to(arg.device)\n",
    "        self.features = torch.from_numpy(self.features).to(arg.device)\n",
    "            \n",
    "\n",
    "    def _get_images_and_labels(self, data):\n",
    "        features, labels = data\n",
    "        \n",
    "        features = _get_dense_tensor(features)\n",
    "        labels = _get_dense_tensor(labels)\n",
    "        \n",
    "        labels = _correct_binary_labels(labels)\n",
    "        \n",
    "        features = features.astype(np.float32)\n",
    "        labels = labels.astype(np.float32) #int\n",
    "        return features, labels\n",
    "    \n",
    "\n",
    "    def __len__(self):\n",
    "        return self.features.size(0)\n",
    "    \n",
    "    def __getitem__(self, idx):\n",
    "        if torch.is_tensor(idx):\n",
    "            idx = idx.tolist()\n",
    "        \n",
    "        return [self.features[idx], self.labels[idx]]\n",
    "\n",
    "    def __iter__(self):\n",
    "        idxs = list(range(self.__len__()))\n",
    "        for k in idxs:\n",
    "            yield [self.features[k], self.labels[k]]\n",
    "    \n",
    "    def get_data(self):\n",
    "        return self.__iter__()\n",
    "\n",
    "    def size(self):\n",
    "        return self.__len__()\n",
    "    \n",
    "    def num_features(self):\n",
    "        return self.features.shape[1]\n",
    "    \n",
    "    def get_batch(self, batch_size = 1, replace = False):\n",
    "        idx = np.random.choice(self.__len__(), size = batch_size, replace = replace)\n",
    "        return [self.features[idx], self.labels[idx]]"
   ]
  },
  {
   "cell_type": "code",
   "execution_count": 19,
   "metadata": {},
   "outputs": [],
   "source": [
    "data_train = dataset(arg.data)\n",
    "# data_train = dataset('NSQIP')"
   ]
  },
  {
   "cell_type": "code",
   "execution_count": 20,
   "metadata": {},
   "outputs": [
    {
     "name": "stdout",
     "output_type": "stream",
     "text": [
      "Number of features: 231\n",
      "Size of data: 722101\n"
     ]
    }
   ],
   "source": [
    "in_features = data_train.num_features()\n",
    "print('Number of features: %d'%in_features)\n",
    "print('Size of data: %d'%data_train.size())"
   ]
  },
  {
   "cell_type": "code",
   "execution_count": 21,
   "metadata": {},
   "outputs": [],
   "source": [
    "class Neuron(nn.Module):\n",
    "    def __init__(self):\n",
    "        super(Neuron, self).__init__()\n",
    "        self.lin = nn.Linear(in_features,1)\n",
    "        self.lin.weight.data = torch.zeros([1,in_features], requires_grad = True)\n",
    "        self.lin.bias.data = torch.tensor([0.], requires_grad = True)\n",
    "        self.sig = nn.Sigmoid()\n",
    "    def forward(self, x):\n",
    "        x = self.lin(x)\n",
    "        x = self.sig(x)\n",
    "        return x\n",
    "\n",
    "# criterion = nn.CrossEntropyLoss()\n",
    "criterion = nn.BCELoss()"
   ]
  },
  {
   "cell_type": "code",
   "execution_count": 22,
   "metadata": {},
   "outputs": [
    {
     "name": "stdout",
     "output_type": "stream",
     "text": [
      "14.558308601379395\n"
     ]
    }
   ],
   "source": [
    "# an upper bound for the smoothness\n",
    "fro_norm = torch.norm(data_train.features, p = 'fro')\n",
    "L = ((fro_norm**2)/data_train.size()).item() + 1\n",
    "print(L)"
   ]
  },
  {
   "cell_type": "code",
   "execution_count": 23,
   "metadata": {},
   "outputs": [],
   "source": [
    "def get_total_loss(inputs, labels, network, reg = 0.0):\n",
    "    with torch.no_grad():\n",
    "        outputs = network(inputs)\n",
    "        total_loss = criterion(outputs, labels)\n",
    "        total_loss += 0.5*reg*(torch.norm(network.lin.weight)**2)\n",
    "        total_loss += 0.5*reg*(torch.norm(network.lin.bias)**2)\n",
    "    return total_loss.item()"
   ]
  },
  {
   "cell_type": "code",
   "execution_count": 24,
   "metadata": {},
   "outputs": [
    {
     "name": "stdout",
     "output_type": "stream",
     "text": [
      "0.6931473016738892\n"
     ]
    }
   ],
   "source": [
    "net = Neuron().to(arg.device)\n",
    "loss_0 = get_total_loss(data_train.features, data_train.labels, net, arg.reg)\n",
    "print(loss_0) # Loss at the initial point"
   ]
  },
  {
   "cell_type": "markdown",
   "metadata": {
    "jupyter": {
     "source_hidden": true
    }
   },
   "source": [
    "## Find Global Optimum"
   ]
  },
  {
   "cell_type": "code",
   "execution_count": 15,
   "metadata": {
    "jupyter": {
     "source_hidden": true
    }
   },
   "outputs": [],
   "source": [
    "net = Neuron().to(device)\n",
    "avg_losses = [loss_0]\n",
    "f_min = 1.0\n",
    "\n",
    "optimizer = optim.SGD(net.parameters(), lr=1.0, weight_decay = arg.reg)\n",
    "scheduler = optim.lr_scheduler.LambdaLR(optimizer, lambda t: 2.0/(arg.mu*(t+1.0)), last_epoch=-1)"
   ]
  },
  {
   "cell_type": "code",
   "execution_count": 16,
   "metadata": {
    "collapsed": true,
    "jupyter": {
     "outputs_hidden": true,
     "source_hidden": true
    }
   },
   "outputs": [
    {
     "name": "stdout",
     "output_type": "stream",
     "text": [
      "f_min: 0.433434\n"
     ]
    },
    {
     "data": {
      "image/png": "[encoded data removed]",
      "text/plain": [
       "<Figure size 432x288 with 1 Axes>"
      ]
     },
     "metadata": {
      "needs_background": "light"
     },
     "output_type": "display_data"
    }
   ],
   "source": [
    "# This block can be run many times to find a more accurate optimum\n",
    "bs_optimum = 50 # batch size used to find the global optimum\n",
    "\n",
    "for t in range(10000):\n",
    "    batch = data_train.get_batch(bs_optimum)\n",
    "    inputs, labels = batch[0], batch[1]\n",
    "\n",
    "    optimizer.zero_grad()\n",
    "    logits = net(inputs)\n",
    "    loss = criterion(logits, labels)\n",
    "    loss.backward()\n",
    "    optimizer.step()\n",
    "    scheduler.step() #######<<<<<<<<<<-------- Comment this if you want to repeat this loop \n",
    "    \n",
    "    if (t+1)%100 == 0:\n",
    "        total_loss = get_total_loss(data_train.features, data_train.labels, net, arg.reg)\n",
    "        avg_losses.append(total_loss)\n",
    "        if total_loss<f_min:\n",
    "            f_min = total_loss\n",
    "#             print('new f_min: %f' %f_min)\n",
    "            \n",
    "\n",
    "print('f_min: %f' %  (f_min))\n",
    "\n",
    "plt.plot(np.array(avg_losses) - f_min, '-o')\n",
    "plt.yscale('log')\n",
    "plt.show()"
   ]
  },
  {
   "cell_type": "code",
   "execution_count": 34,
   "metadata": {},
   "outputs": [],
   "source": [
    "# arg.f_min = 0.433426 #a9a reg = 0.05\n",
    "# arg.f_min = 0.228248 #NSQIP, reg = 0.05"
   ]
  },
  {
   "cell_type": "markdown",
   "metadata": {},
   "source": [
    "## Centralized"
   ]
  },
  {
   "cell_type": "code",
   "execution_count": 25,
   "metadata": {},
   "outputs": [
    {
     "name": "stdout",
     "output_type": "stream",
     "text": [
      ".....Done!\n"
     ]
    }
   ],
   "source": [
    "iter_error_sum = np.zeros(arg.T//arg.plot_every + 1)\n",
    "\n",
    "for rep in range(arg.reps):\n",
    "#     print('Simulation: %d/%d'%(rep+1,arg.reps))\n",
    "    \n",
    "    iter_error = [loss_0]\n",
    "    \n",
    "    net = Neuron().to(arg.device)\n",
    "    optimizer = optim.SGD(net.parameters(), lr=1.0, weight_decay = arg.reg)\n",
    "    scheduler = optim.lr_scheduler.LambdaLR(optimizer, lambda t: 2.0/(arg.mu*(t+arg.beta)), last_epoch=-1)\n",
    "    \n",
    "    for t in range(arg.T):\n",
    "        batch = data_train.get_batch(arg.N*arg.batch_size)\n",
    "        inputs, labels = batch[0], batch[1]\n",
    "\n",
    "        optimizer.zero_grad()\n",
    "        logits = net(inputs)\n",
    "        loss = criterion(logits, labels)\n",
    "        \n",
    "        loss.backward()\n",
    "        optimizer.step()\n",
    "        scheduler.step()\n",
    "        \n",
    "        if (t+1)% arg.plot_every == 0:\n",
    "            total_loss = get_total_loss(data_train.features, data_train.labels, net, arg.reg)\n",
    "            iter_error.append(total_loss)\n",
    "            \n",
    "        elif t == arg.T-1:\n",
    "            total_loss = get_total_loss(data_train.features, data_train.labels, net, arg.reg)\n",
    "#     print('loss: %.5f' %  (total_loss))\n",
    "\n",
    "    iter_error_sum += np.array(iter_error)\n",
    "    \n",
    "    if (rep+1) % arg.print_every == 0:\n",
    "            print('.', end='')\n",
    "            \n",
    "iter_error_avg = iter_error_sum/arg.reps    \n",
    "print('Done!')"
   ]
  },
  {
   "cell_type": "code",
   "execution_count": 26,
   "metadata": {},
   "outputs": [
    {
     "data": {
      "image/png": "[encoded data removed]",
      "text/plain": [
       "<Figure size 432x288 with 1 Axes>"
      ]
     },
     "metadata": {
      "needs_background": "light"
     },
     "output_type": "display_data"
    }
   ],
   "source": [
    "plt.plot(arg.plot_every*np.arange(len(iter_error_avg)), iter_error_avg - arg.f_min, '-o')\n",
    "plt.yscale('log')\n",
    "plt.show()"
   ]
  },
  {
   "cell_type": "code",
   "execution_count": 29,
   "metadata": {},
   "outputs": [
    {
     "name": "stdout",
     "output_type": "stream",
     "text": [
      "file saved: results/LR_cen_NSQIP.pkl\n"
     ]
    }
   ],
   "source": [
    "file_name = f\"results/LR_cen_{arg.data}.pkl\"\n",
    "\n",
    "with open(file_name, 'wb') as f:\n",
    "    pickle.dump({'arg': arg, 'iter_error_avg': iter_error_avg}, f)\n",
    "    f.close()\n",
    "print('file saved: ' + file_name)"
   ]
  },
  {
   "cell_type": "code",
   "execution_count": 30,
   "metadata": {},
   "outputs": [
    {
     "name": "stdout",
     "output_type": "stream",
     "text": [
      "dict_keys(['arg', 'iter_error_avg'])\n"
     ]
    }
   ],
   "source": [
    "file_name = f\"results/LR_cen_{arg.data}.pkl\"\n",
    "data = pickle.load(open(file_name, 'rb'))\n",
    "print(data.keys())\n",
    "\n",
    "try:\n",
    "    iter_error_cen = data['iter_error_avg']\n",
    "#     arg = data['arg']\n",
    "except:\n",
    "    pass\n",
    "del data"
   ]
  },
  {
   "cell_type": "markdown",
   "metadata": {},
   "source": [
    "---\n",
    "## Parallel"
   ]
  },
  {
   "cell_type": "code",
   "execution_count": 31,
   "metadata": {},
   "outputs": [],
   "source": [
    "plot_labels = {0:r'Synchronous SGD', 1:r'[Sti19]', 2:'[HKMC19]', 3:'$H_i = a(i+1)$ [This Paper]', 4: r'$H = T/N$', 5:r'$H=T$ (OSA)'}\n",
    "\n",
    "def get_comms(method, arg, N=None, T=None):\n",
    "    if not N:\n",
    "        N = arg.N\n",
    "        T = arg.T\n",
    "    \n",
    "    if method == 0:\n",
    "        comms = np.arange(T+1)\n",
    "        print('synchronous')\n",
    "        \n",
    "    elif method == 1:\n",
    "        H = int(np.sqrt(T/N))\n",
    "        print(f\"H={H}\")\n",
    "        \n",
    "        comms = [H*t for t in range(T//H + 1)]\n",
    "        plot_labels[method] = r'$H=%d$ [Sti19]' %H\n",
    "\n",
    "    elif method == 2:\n",
    "        H = int(((T**2)/N)**(1/3))\n",
    "        print(f\"H={H}\")\n",
    "        comms = [H*t for t in range(T//H + 1)]\n",
    "        \n",
    "        plot_labels[method] = r'$H=%d$ [HKMC19]' %H\n",
    "        \n",
    "    elif method == 3: # This Paper\n",
    "        R = N #int(N*arg.kappa)\n",
    "#         a = int(np.ceil(2*T/(k**2)))\n",
    "        a = 2*T/(R*(R+1))\n",
    "        print(f\"R:{R}, a:{a}\")\n",
    "        plot_labels[method] = r'$H_i=%d(i+1)$ (This Paper)' % int(a)\n",
    "        \n",
    "        comms = [int(a*r*(r+1)/2) for r in range(R+1)]\n",
    "\n",
    "\n",
    "    elif method == 4:\n",
    "        R = N #int(N*arg.kappa)\n",
    "        H = arg.T/R\n",
    "        print(f\"H={H}\")\n",
    "        comms = [int(np.ceil(H*r)) for r in range(R+1) if H*r <= T]\n",
    "        plot_labels[method] = r'$H=%d$ $(T/N)$' %H\n",
    "\n",
    "    elif method == 5:\n",
    "        comms = [0,T]\n",
    "        print(r'H=T (OSA)')\n",
    "\n",
    "    if comms[-1] != T:\n",
    "        comms.append(T)\n",
    "        \n",
    "    comms = np.array(comms, dtype = int)\n",
    "#     print(comms)\n",
    "    return comms"
   ]
  },
  {
   "cell_type": "code",
   "execution_count": 32,
   "metadata": {},
   "outputs": [],
   "source": [
    "def train_dist(comms, arg):\n",
    "    comm_error_sum = np.zeros(len(comms))\n",
    "    iter_error_sum = np.zeros(np.ceil(arg.T/arg.plot_every + 1).astype(int))\n",
    "    iter_error2_sum = np.zeros(np.ceil(arg.T/arg.plot_every + 1).astype(int))\n",
    "    \n",
    "    for rep in range(arg.reps):    \n",
    "        workers = []\n",
    "        all_params = []\n",
    "        for i in range(arg.N):\n",
    "            worker = Neuron().to(arg.device)\n",
    "            workers.append(worker)\n",
    "            all_params += list(worker.parameters())\n",
    "            \n",
    "        optimizer = optim.SGD(all_params, lr=1.0, weight_decay = arg.reg)\n",
    "        scheduler = optim.lr_scheduler.LambdaLR(optimizer, lambda t: 3/(arg.mu*(t+arg.beta)), last_epoch=-1)\n",
    "        \n",
    "        comm_error = [loss_0]\n",
    "        iter_error = [loss_0]\n",
    "        for t in range(arg.T):\n",
    "            optimizer.zero_grad()\n",
    "            loss = 0\n",
    "            for i in range(arg.N):\n",
    "                worker = workers[i]\n",
    "                batch = data_train.get_batch(arg.batch_size)\n",
    "                inputs, labels = batch[0], batch[1]\n",
    "                \n",
    "                outputs = worker(inputs)\n",
    "                loss += criterion(outputs, labels)\n",
    "            \n",
    "            loss.backward()\n",
    "            optimizer.step()\n",
    "            scheduler.step()\n",
    "\n",
    "            if (t+1) in comms: # calculating the average of workers' parameters\n",
    "                avg_net = Neuron().to(arg.device)\n",
    "                params_avg = avg_net.named_parameters()\n",
    "                dict_params_avg = dict(params_avg)\n",
    "\n",
    "                for worker in workers:\n",
    "                    for name, param in worker.named_parameters():\n",
    "                        dict_params_avg[name].data.add_(param/arg.N)\n",
    "\n",
    "                avg_net.load_state_dict(dict_params_avg)\n",
    "\n",
    "                # updating each worker's parameters to the average\n",
    "                for worker in workers:\n",
    "                    worker.load_state_dict(dict_params_avg)\n",
    "\n",
    "                total_loss = get_total_loss(data_train.features, data_train.labels, avg_net, arg.reg)\n",
    "                comm_error.append(total_loss)\n",
    "\n",
    "\n",
    "            if (t+1) % arg.plot_every == 0  or (t+1) == arg.T:\n",
    "                # calculating the average of workers' parameters\n",
    "                avg_net = Neuron().to(arg.device)\n",
    "                params_avg = avg_net.named_parameters()\n",
    "                dict_params_avg = dict(params_avg)\n",
    "\n",
    "                for worker in workers:\n",
    "                    for name, param in worker.named_parameters():\n",
    "                        dict_params_avg[name].data.add_(param/arg.N)\n",
    "\n",
    "                avg_net.load_state_dict(dict_params_avg)\n",
    "\n",
    "                total_loss = get_total_loss(data_train.features, data_train.labels, avg_net, arg.reg)\n",
    "                iter_error.append(total_loss)\n",
    "\n",
    "        comm_error_sum += np.array(comm_error)\n",
    "        iter_error_sum += np.array(iter_error)\n",
    "        iter_error2_sum += np.array(iter_error)**2\n",
    "        \n",
    "        if (rep+1) % arg.print_every == 0:\n",
    "            print('.', end='')\n",
    "    \n",
    "    print('Done!')\n",
    "\n",
    "    comm_error_avg = comm_error_sum/arg.reps\n",
    "    iter_error_avg = iter_error_sum/arg.reps\n",
    "    iter_error2_avg = iter_error2_sum/arg.reps\n",
    "    \n",
    "    return {'comm_error_avg': comm_error_avg, 'iter_error_avg': iter_error_avg, 'iter_error2_avg': iter_error2_avg}"
   ]
  },
  {
   "cell_type": "markdown",
   "metadata": {},
   "source": [
    "## Repeated Simulations"
   ]
  },
  {
   "cell_type": "code",
   "execution_count": 33,
   "metadata": {},
   "outputs": [],
   "source": [
    "iter_avg_dict = {}\n",
    "iter_std_dict = {}\n",
    "comm_dict = {}"
   ]
  },
  {
   "cell_type": "code",
   "execution_count": 34,
   "metadata": {},
   "outputs": [
    {
     "name": "stdout",
     "output_type": "stream",
     "text": [
      "method 3\n",
      "R:10, a:18.181818181818183\n",
      "# of comms: 10\n",
      ".....Done!\n",
      "method 4\n",
      "H=100.0\n",
      "# of comms: 10\n",
      ".....Done!\n",
      "method 5\n",
      "H=T (OSA)\n",
      "# of comms: 1\n",
      ".....Done!\n",
      "method 0\n",
      "synchronous\n",
      "# of comms: 1000\n",
      ".....Done!\n"
     ]
    }
   ],
   "source": [
    "for method in [3,4,5,0]:\n",
    "    print('method %d'% method)\n",
    "    comms = get_comms(method, arg)\n",
    "    print('# of comms: %d' % (len(comms)-1))\n",
    "    \n",
    "    result = train_dist(comms, arg)\n",
    "    \n",
    "    comm_dict[method] = result['comm_error_avg']\n",
    "    iter_avg_dict[method] = result['iter_error_avg']\n",
    "    iter_std_dict[method] = np.sqrt(result['iter_error2_avg'] - result['iter_error_avg']**2)/np.sqrt(arg.reps)"
   ]
  },
  {
   "cell_type": "code",
   "execution_count": 35,
   "metadata": {},
   "outputs": [
    {
     "data": {
      "image/png": "[encoded data removed]",
      "text/plain": [
       "<Figure size 432x288 with 1 Axes>"
      ]
     },
     "metadata": {
      "needs_background": "light"
     },
     "output_type": "display_data"
    }
   ],
   "source": [
    "for method in iter_avg_dict:\n",
    "    plt.plot(iter_avg_dict[method] - arg.f_min, label = 'Method %d' % method)\n",
    "\n",
    "plt.yscale('log')\n",
    "plt.legend()\n",
    "plt.show()"
   ]
  },
  {
   "cell_type": "markdown",
   "metadata": {},
   "source": [
    "plot_labels[4] = r'$H=100$ $(T/N)$'\n",
    "plot_labels"
   ]
  },
  {
   "cell_type": "code",
   "execution_count": 17,
   "metadata": {},
   "outputs": [
    {
     "name": "stdout",
     "output_type": "stream",
     "text": [
      "file saved: results/LR_dis_a9a.pkl\n"
     ]
    }
   ],
   "source": [
    "# saving the results to a file\n",
    "file_name = f\"results/LR_dis_{arg.data}.pkl\"\n",
    "with open( file_name, 'wb') as f:\n",
    "    pickle.dump({'iter_avg_dict': iter_avg_dict, 'iter_std_dict': iter_std_dict,\n",
    "                 'comm_dict': comm_dict, 'arg': arg, 'plot_labels': plot_labels}, f)\n",
    "    f.close()\n",
    "print('file saved: ' + file_name)"
   ]
  },
  {
   "cell_type": "code",
   "execution_count": 18,
   "metadata": {},
   "outputs": [
    {
     "name": "stdout",
     "output_type": "stream",
     "text": [
      "file: results/LR_dis_a9a.pkl loaded.\n",
      "dict_keys(['iter_avg_dict', 'iter_std_dict', 'comm_dict', 'arg', 'plot_labels'])\n"
     ]
    }
   ],
   "source": [
    "# loading data\n",
    "file_name = f\"results/LR_dis_{arg.data}.pkl\"\n",
    "data = pickle.load(open(file_name, 'rb'))\n",
    "print(f\"file: {file_name} loaded.\")\n",
    "print(data.keys())\n",
    "\n",
    "try:\n",
    "    iter_avg_dict = data['iter_avg_dict']\n",
    "    iter_std_dict = data['iter_std_dict']\n",
    "    comm_dict = data['comm_dict']\n",
    "    arg = data['arg']\n",
    "    plot_labels = data['plot_labels']\n",
    "    methods = iter_avg_dict.keys()\n",
    "except:\n",
    "    pass\n",
    "del data"
   ]
  },
  {
   "cell_type": "markdown",
   "metadata": {},
   "source": [
    "## Plotting the results"
   ]
  },
  {
   "cell_type": "code",
   "execution_count": 6,
   "metadata": {},
   "outputs": [],
   "source": [
    "sns.reset_defaults()\n",
    "sns.set(\n",
    "    rc={'figure.figsize':(6,4)}, \n",
    "    style=\"whitegrid\" # nicer layout\n",
    ")"
   ]
  },
  {
   "cell_type": "code",
   "execution_count": 19,
   "metadata": {},
   "outputs": [
    {
     "data": {
      "text/html": [
       "<div>\n",
       "<style scoped>\n",
       "    .dataframe tbody tr th:only-of-type {\n",
       "        vertical-align: middle;\n",
       "    }\n",
       "\n",
       "    .dataframe tbody tr th {\n",
       "        vertical-align: top;\n",
       "    }\n",
       "\n",
       "    .dataframe thead th {\n",
       "        text-align: right;\n",
       "    }\n",
       "</style>\n",
       "<table border=\"1\" class=\"dataframe\">\n",
       "  <thead>\n",
       "    <tr style=\"text-align: right;\">\n",
       "      <th></th>\n",
       "      <th>iter</th>\n",
       "      <th>error</th>\n",
       "      <th>txerror</th>\n",
       "      <th>method</th>\n",
       "    </tr>\n",
       "  </thead>\n",
       "  <tbody>\n",
       "    <tr>\n",
       "      <td>0</td>\n",
       "      <td>0.0</td>\n",
       "      <td>0.259891</td>\n",
       "      <td>0.000000</td>\n",
       "      <td>3</td>\n",
       "    </tr>\n",
       "    <tr>\n",
       "      <td>1</td>\n",
       "      <td>100.0</td>\n",
       "      <td>0.107729</td>\n",
       "      <td>10.772905</td>\n",
       "      <td>3</td>\n",
       "    </tr>\n",
       "    <tr>\n",
       "      <td>2</td>\n",
       "      <td>200.0</td>\n",
       "      <td>0.028211</td>\n",
       "      <td>5.642267</td>\n",
       "      <td>3</td>\n",
       "    </tr>\n",
       "    <tr>\n",
       "      <td>3</td>\n",
       "      <td>300.0</td>\n",
       "      <td>0.019512</td>\n",
       "      <td>5.853603</td>\n",
       "      <td>3</td>\n",
       "    </tr>\n",
       "    <tr>\n",
       "      <td>4</td>\n",
       "      <td>400.0</td>\n",
       "      <td>0.009437</td>\n",
       "      <td>3.774995</td>\n",
       "      <td>3</td>\n",
       "    </tr>\n",
       "  </tbody>\n",
       "</table>\n",
       "</div>"
      ],
      "text/plain": [
       "    iter     error    txerror  method\n",
       "0    0.0  0.259891   0.000000       3\n",
       "1  100.0  0.107729  10.772905       3\n",
       "2  200.0  0.028211   5.642267       3\n",
       "3  300.0  0.019512   5.853603       3\n",
       "4  400.0  0.009437   3.774995       3"
      ]
     },
     "execution_count": 19,
     "metadata": {},
     "output_type": "execute_result"
    }
   ],
   "source": [
    "# Combining the outputs in one dataframe for Seaborn\n",
    "errors = []\n",
    "txerrors = []\n",
    "\n",
    "# errors_std = []\n",
    "# txerrors_std = []\n",
    "\n",
    "iterations = []\n",
    "methods_list = []\n",
    "for m in methods:\n",
    "    errors = np.append(errors, iter_avg_dict[m]  - arg.f_min)\n",
    "    txerrors = np.append(txerrors, (iter_avg_dict[m]- arg.f_min)*(arg.plot_every*np.arange(len(iter_avg_dict[m]))))\n",
    "\n",
    "#     errors_std = np.append(errors_std, iter_std_dict[m])\n",
    "#     txerrors_std = np.append(txerrors_std, iter_std_dict[m]*(arg.plot_every*np.arange(len(iter_std_dict[m]))))\n",
    "    \n",
    "    iterations = np.append(iterations, arg.plot_every*np.arange(len(iter_avg_dict[m])))\n",
    "#     methods_list += [plot_labels[m]]*len(iter_avg_dict[m])\n",
    "    methods_list += [m]*len(iter_avg_dict[m])\n",
    "\n",
    "\n",
    "iter_df = pd.DataFrame({'iter': iterations, 'error': errors, 'txerror': txerrors, 'method': methods_list}) #, 'std': errors_std,  'txstd': txerrors_std})\n",
    "iter_df.head()"
   ]
  },
  {
   "cell_type": "code",
   "execution_count": 23,
   "metadata": {},
   "outputs": [
    {
     "data": {
      "image/png": "[encoded data removed]",
      "text/plain": [
       "<Figure size 600x400 with 1 Axes>"
      ]
     },
     "metadata": {},
     "output_type": "display_data"
    }
   ],
   "source": [
    "plot_colors = {0:(0.1, 0.1, 1),\n",
    "               3:(1, 0.1, 0.1),\n",
    "               4: (0,.75,0),\n",
    "               5:(1,.5,0.1)}\n",
    "\n",
    "ax = sns.lineplot(x = 'iter', y= 'error', data = iter_df,\n",
    "                  hue = 'method',\n",
    "#                   palette = 'bright',\n",
    "                  palette = plot_colors,\n",
    "                  style = 'method',\n",
    "                  markers = True, dashes = False,   markevery=0.1)\n",
    "\n",
    "\n",
    "# plt.plot(arg.plot_every*np.arange(len(iter_error_cen)),iter_error_cen - arg.f_min)\n",
    "\n",
    "# plt.gca().set_prop_cycle(None)\n",
    "for m in methods:\n",
    "    iter_std = iter_std_dict[m]\n",
    "    plt.fill_between(\n",
    "        arg.plot_every*np.arange(len(iter_std)),\n",
    "        (iter_avg_dict[m] - arg.f_min - iter_std),\n",
    "        (iter_avg_dict[m] - arg.f_min + iter_std),\n",
    "        alpha=0.1,\n",
    "        color = plot_colors[m],\n",
    "    )\n",
    "\n",
    "plt.yscale('log')\n",
    "plt.grid(True)\n",
    "plt.xlabel(r'Iteration $(t)$')\n",
    "plt.ylabel(r'$E[F(\\bar x^t)] - F^*$')\n",
    "\n",
    "# plt.ylim([5e-4,1e0])\n",
    "plt.xlim([0,1000])\n",
    "\n",
    "handles, labels = ax.get_legend_handles_labels()\n",
    "ax.legend(handles=handles[1:], labels=[plot_labels[int(m)] for m in labels[1:]])\n",
    "# plt.savefig(f\"figures/iteration_{arg.data}.png\", dpi=240, transparent=False, bbox_inches='tight')\n",
    "plt.show()"
   ]
  },
  {
   "cell_type": "code",
   "execution_count": 24,
   "metadata": {},
   "outputs": [
    {
     "data": {
      "text/html": [
       "<div>\n",
       "<style scoped>\n",
       "    .dataframe tbody tr th:only-of-type {\n",
       "        vertical-align: middle;\n",
       "    }\n",
       "\n",
       "    .dataframe tbody tr th {\n",
       "        vertical-align: top;\n",
       "    }\n",
       "\n",
       "    .dataframe thead th {\n",
       "        text-align: right;\n",
       "    }\n",
       "</style>\n",
       "<table border=\"1\" class=\"dataframe\">\n",
       "  <thead>\n",
       "    <tr style=\"text-align: right;\">\n",
       "      <th></th>\n",
       "      <th>comm</th>\n",
       "      <th>error</th>\n",
       "      <th>method</th>\n",
       "    </tr>\n",
       "  </thead>\n",
       "  <tbody>\n",
       "    <tr>\n",
       "      <td>0</td>\n",
       "      <td>0.0</td>\n",
       "      <td>0.259891</td>\n",
       "      <td>3</td>\n",
       "    </tr>\n",
       "    <tr>\n",
       "      <td>1</td>\n",
       "      <td>1.0</td>\n",
       "      <td>1.198220</td>\n",
       "      <td>3</td>\n",
       "    </tr>\n",
       "    <tr>\n",
       "      <td>2</td>\n",
       "      <td>2.0</td>\n",
       "      <td>0.324313</td>\n",
       "      <td>3</td>\n",
       "    </tr>\n",
       "    <tr>\n",
       "      <td>3</td>\n",
       "      <td>3.0</td>\n",
       "      <td>0.087955</td>\n",
       "      <td>3</td>\n",
       "    </tr>\n",
       "    <tr>\n",
       "      <td>4</td>\n",
       "      <td>4.0</td>\n",
       "      <td>0.035053</td>\n",
       "      <td>3</td>\n",
       "    </tr>\n",
       "  </tbody>\n",
       "</table>\n",
       "</div>"
      ],
      "text/plain": [
       "   comm     error  method\n",
       "0   0.0  0.259891       3\n",
       "1   1.0  1.198220       3\n",
       "2   2.0  0.324313       3\n",
       "3   3.0  0.087955       3\n",
       "4   4.0  0.035053       3"
      ]
     },
     "execution_count": 24,
     "metadata": {},
     "output_type": "execute_result"
    }
   ],
   "source": [
    "# Combining the outputs in one dataframe for Seaborn\n",
    "errors = []\n",
    "comms = []\n",
    "methods_list = []\n",
    "for m in methods:\n",
    "    errors = np.append(errors, comm_dict[m] - arg.f_min)\n",
    "    comms = np.append(comms, np.arange(len(comm_dict[m])))\n",
    "    methods_list += [m]*len(comm_dict[m])\n",
    "\n",
    "comm_df = pd.DataFrame({'comm': comms, 'error': errors, 'method': methods_list})\n",
    "comm_df.head()"
   ]
  },
  {
   "cell_type": "code",
   "execution_count": 25,
   "metadata": {},
   "outputs": [
    {
     "data": {
      "image/png": "[encoded data removed]",
      "text/plain": [
       "<Figure size 600x400 with 1 Axes>"
      ]
     },
     "metadata": {},
     "output_type": "display_data"
    }
   ],
   "source": [
    "# plt.figure(figsize=(8,6))\n",
    "ax = sns.lineplot(x = 'comm', y= 'error', data = comm_df, #.loc[comm_df['method'].isin([plot_labels[i] for i in [1,2,3,4]])],\n",
    "                  hue = 'method',\n",
    "#                   palette = 'bright',\n",
    "                  palette = plot_colors,\n",
    "                  style = 'method',  markers = True, dashes = False, markevery=.1)\n",
    "plt.yscale('log')\n",
    "plt.xscale('log')\n",
    "plt.grid(True)\n",
    "plt.xlabel(r'Communication round')\n",
    "plt.ylabel(r'$E[F(\\bar x^t)] - F^*$')\n",
    "plt.ylim([1e-3, 1e1])\n",
    "# plt.xlim([0,1000])\n",
    "\n",
    "handles, labels = ax.get_legend_handles_labels()\n",
    "ax.legend(handles=handles[1:], labels=[plot_labels[int(m)] for m in labels[1:]])\n",
    "# plt.savefig(f\"figures/communication_{arg.data}.png\", dpi=240, transparent=False, bbox_inches='tight')\n",
    "plt.show()"
   ]
  },
  {
   "cell_type": "code",
   "execution_count": null,
   "metadata": {},
   "outputs": [],
   "source": []
  }
 ],
 "metadata": {
  "kernelspec": {
   "display_name": "py3",
   "language": "python",
   "name": "py3"
  },
  "language_info": {
   "codemirror_mode": {
    "name": "ipython",
    "version": 3
   },
   "file_extension": ".py",
   "mimetype": "text/x-python",
   "name": "python",
   "nbconvert_exporter": "python",
   "pygments_lexer": "ipython3",
   "version": "3.7.4"
  }
 },
 "nbformat": 4,
 "nbformat_minor": 4
}
